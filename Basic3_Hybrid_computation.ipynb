{
  "nbformat": 4,
  "nbformat_minor": 0,
  "metadata": {
    "colab": {
      "name": "Basic3 Hybrid computation.ipynb",
      "provenance": [],
      "collapsed_sections": [],
      "authorship_tag": "ABX9TyNW20Vypn6HLzX/RLiX3mec",
      "include_colab_link": true
    },
    "kernelspec": {
      "name": "python3",
      "display_name": "Python 3"
    }
  },
  "cells": [
    {
      "cell_type": "markdown",
      "metadata": {
        "id": "view-in-github",
        "colab_type": "text"
      },
      "source": [
        "<a href=\"https://colab.research.google.com/github/sunlaito/LearnPennyLane/blob/main/Basic3_Hybrid_computation.ipynb\" target=\"_parent\"><img src=\"https://colab.research.google.com/assets/colab-badge.svg\" alt=\"Open In Colab\"/></a>"
      ]
    },
    {
      "cell_type": "code",
      "metadata": {
        "id": "4E8RLALsIdoP"
      },
      "source": [
        "# Ref: https://pennylane.ai/qml/demos/tutorial_plugins_hybrid.html"
      ],
      "execution_count": null,
      "outputs": []
    },
    {
      "cell_type": "code",
      "metadata": {
        "id": "OgYx9idy_2HW"
      },
      "source": [
        "# numba>=0.49.1 as required by pennylane-sf\r\n",
        "!pip install numba --upgrade"
      ],
      "execution_count": null,
      "outputs": []
    },
    {
      "cell_type": "code",
      "metadata": {
        "id": "V1ZNn717CK46"
      },
      "source": [
        "# urllib3>=1.21.1, !=1.25.0, !=1.25.1, <1.26 as required by pennylane-sf\r\n",
        "!pip install urllib3==1.25.11"
      ],
      "execution_count": null,
      "outputs": []
    },
    {
      "cell_type": "code",
      "metadata": {
        "id": "CIgkiujr5Ujj"
      },
      "source": [
        "!pip install pennylane --upgrade"
      ],
      "execution_count": null,
      "outputs": []
    },
    {
      "cell_type": "code",
      "metadata": {
        "id": "7qvSx4IU7MPx"
      },
      "source": [
        "!pip install pennylane-sf"
      ],
      "execution_count": null,
      "outputs": []
    },
    {
      "cell_type": "code",
      "metadata": {
        "colab": {
          "base_uri": "https://localhost:8080/"
        },
        "id": "s4SgDEij5i6a",
        "outputId": "f237d9bc-a437-476f-dc3a-350978f0e6fe"
      },
      "source": [
        "import pennylane as qml\r\n",
        "from pennylane import numpy as np\r\n",
        "qml.about()\r\n",
        "# Note that the devices from pennylane-sf are not recognized"
      ],
      "execution_count": null,
      "outputs": [
        {
          "output_type": "stream",
          "text": [
            "Name: PennyLane\n",
            "Version: 0.13.0\n",
            "Summary: PennyLane is a Python quantum machine learning library by Xanadu Inc.\n",
            "Home-page: https://github.com/XanaduAI/pennylane\n",
            "Author: None\n",
            "Author-email: None\n",
            "License: Apache License 2.0\n",
            "Location: /usr/local/lib/python3.6/dist-packages\n",
            "Requires: semantic-version, scipy, appdirs, toml, numpy, networkx, autograd\n",
            "Required-by: PennyLane-SF\n",
            "Platform info:           Linux-4.19.112+-x86_64-with-Ubuntu-18.04-bionic\n",
            "Python version:          3.6.9\n",
            "Numpy version:           1.19.5\n",
            "Scipy version:           1.4.1\n",
            "Installed devices:\n"
          ],
          "name": "stdout"
        }
      ]
    },
    {
      "cell_type": "code",
      "metadata": {
        "colab": {
          "base_uri": "https://localhost:8080/"
        },
        "id": "IUo_APkiBeC3",
        "outputId": "83007152-cfb0-4c72-cad8-89aa5b4ef0ab"
      },
      "source": [
        "# Runtime -> Restart runtime when running in Google Colab, otherwise the devices are not recognized\r\n",
        "import pennylane as qml\r\n",
        "from pennylane import numpy as np\r\n",
        "qml.about()"
      ],
      "execution_count": null,
      "outputs": [
        {
          "output_type": "stream",
          "text": [
            "Name: PennyLane\n",
            "Version: 0.13.0\n",
            "Summary: PennyLane is a Python quantum machine learning library by Xanadu Inc.\n",
            "Home-page: https://github.com/XanaduAI/pennylane\n",
            "Author: None\n",
            "Author-email: None\n",
            "License: Apache License 2.0\n",
            "Location: /usr/local/lib/python3.6/dist-packages\n",
            "Requires: semantic-version, networkx, scipy, autograd, numpy, appdirs, toml\n",
            "Required-by: PennyLane-SF\n",
            "Platform info:           Linux-4.19.112+-x86_64-with-Ubuntu-18.04-bionic\n",
            "Python version:          3.6.9\n",
            "Numpy version:           1.19.5\n",
            "Scipy version:           1.4.1\n",
            "Installed devices:\n",
            "- default.gaussian (PennyLane-0.13.0)\n",
            "- default.mixed (PennyLane-0.13.0)\n",
            "- default.qubit (PennyLane-0.13.0)\n",
            "- default.qubit.autograd (PennyLane-0.13.0)\n",
            "- default.qubit.tf (PennyLane-0.13.0)\n",
            "- default.tensor (PennyLane-0.13.0)\n",
            "- default.tensor.tf (PennyLane-0.13.0)\n",
            "- strawberryfields.fock (PennyLane-SF-0.12.0)\n",
            "- strawberryfields.gaussian (PennyLane-SF-0.12.0)\n",
            "- strawberryfields.gbs (PennyLane-SF-0.12.0)\n",
            "- strawberryfields.remote (PennyLane-SF-0.12.0)\n",
            "- strawberryfields.tf (PennyLane-SF-0.12.0)\n"
          ],
          "name": "stdout"
        }
      ]
    },
    {
      "cell_type": "code",
      "metadata": {
        "id": "h4k0s5246fqb"
      },
      "source": [
        "# If numba and urllib3 with the right versions are not installed before, this step will go wrong\r\n",
        "\r\n",
        "# As soon as the PennyLane-SF plugin is installed, \r\n",
        "# the 'strawberryfields.fock' device can be loaded — no additional commands or library imports required.\r\n",
        "# cutoff_dim = D: The simulator represents quantum states in the Fock basis |0>,...,|D-1>.\r\n",
        "dev_fock = qml.device(\"strawberryfields.fock\", wires=2, cutoff_dim=2)\r\n",
        "\r\n",
        "dev_qubit = qml.device(\"default.qubit\", wires=1)"
      ],
      "execution_count": null,
      "outputs": []
    },
    {
      "cell_type": "code",
      "metadata": {
        "id": "5LaUe6d8IA4A"
      },
      "source": [
        "# Hybrid computation"
      ],
      "execution_count": null,
      "outputs": []
    },
    {
      "cell_type": "code",
      "metadata": {
        "id": "MbUbi6DB_sMo"
      },
      "source": [
        "# QNode\r\n",
        "@qml.qnode(dev_qubit)\r\n",
        "def qubit_rotation(phi1, phi2):\r\n",
        "    \"\"\"Qubit rotation QNode\"\"\"\r\n",
        "    qml.RX(phi1, wires=0)\r\n",
        "    qml.RY(phi2, wires=0)\r\n",
        "    return qml.expval(qml.PauliZ(0))\r\n",
        "\r\n",
        "\r\n",
        "@qml.qnode(dev_fock)\r\n",
        "def photon_redirection(params):\r\n",
        "    \"\"\"The photon redirection QNode\"\"\"\r\n",
        "    qml.FockState(1, wires=0)\r\n",
        "    qml.Beamsplitter(params[0], params[1], wires=[0, 1])\r\n",
        "    return qml.expval(qml.NumberOperator(1))\r\n",
        "\r\n",
        "def squared_difference(x, y):\r\n",
        "    \"\"\"Classical node to compute the squared\r\n",
        "    difference between two inputs\"\"\"\r\n",
        "    return np.abs(x - y) ** 2"
      ],
      "execution_count": null,
      "outputs": []
    },
    {
      "cell_type": "code",
      "metadata": {
        "id": "x2QelUXGGIkg"
      },
      "source": [
        "# Optimization\r\n",
        "def cost(params):\r\n",
        "    return -photon_redirection(params)"
      ],
      "execution_count": null,
      "outputs": []
    },
    {
      "cell_type": "code",
      "metadata": {
        "colab": {
          "base_uri": "https://localhost:8080/"
        },
        "id": "dUj2gLHCG8lR",
        "outputId": "e642c0ed-a984-4144-c5ce-696afff8b9cc"
      },
      "source": [
        "init_params = np.array([0.01, 0.01])\r\n",
        "print(cost(init_params))"
      ],
      "execution_count": null,
      "outputs": [
        {
          "output_type": "stream",
          "text": [
            "-9.999666671111081e-05\n"
          ],
          "name": "stdout"
        }
      ]
    },
    {
      "cell_type": "code",
      "metadata": {
        "id": "97VCGlNhHA7Y"
      },
      "source": [
        "# Note that phi1 and phi2 are fixed. We only  optimize params in the following codes. \r\n",
        "def cost(params, phi1=0.5, phi2=0.1):\r\n",
        "    \"\"\"Returns the squared difference between\r\n",
        "    the photon-redirection and qubit-rotation QNodes, for\r\n",
        "    fixed values of the qubit rotation angles phi1 and phi2\"\"\"\r\n",
        "    qubit_result = qubit_rotation(phi1, phi2)\r\n",
        "    photon_result = photon_redirection(params)\r\n",
        "    return squared_difference(qubit_result, photon_result)"
      ],
      "execution_count": null,
      "outputs": []
    },
    {
      "cell_type": "code",
      "metadata": {
        "colab": {
          "base_uri": "https://localhost:8080/"
        },
        "id": "se8ij2fCJadt",
        "outputId": "6af7bf5e-0257-4d09-94f8-10059486b033"
      },
      "source": [
        "# initialise the optimizer\r\n",
        "opt = qml.GradientDescentOptimizer(stepsize=0.4)\r\n",
        "\r\n",
        "# set the number of steps\r\n",
        "steps = 100\r\n",
        "# set the initial parameter values\r\n",
        "params = np.array([0.01, 0.01])\r\n",
        "\r\n",
        "for i in range(steps):\r\n",
        "    # update the circuit parameters\r\n",
        "    params = opt.step(cost, params)\r\n",
        "\r\n",
        "    if (i + 1) % 5 == 0:\r\n",
        "        print(\"Cost after step {:5d}: {: .7f}\".format(i + 1, cost(params)))\r\n",
        "\r\n",
        "print(\"Optimized rotation angles: {}\".format(params))"
      ],
      "execution_count": null,
      "outputs": [
        {
          "output_type": "stream",
          "text": [
            "Cost after step     5:  0.2154539\n",
            "Cost after step    10:  0.0000982\n",
            "Cost after step    15:  0.0000011\n",
            "Cost after step    20:  0.0000000\n",
            "Cost after step    25:  0.0000000\n",
            "Cost after step    30:  0.0000000\n",
            "Cost after step    35:  0.0000000\n",
            "Cost after step    40:  0.0000000\n",
            "Cost after step    45:  0.0000000\n",
            "Cost after step    50:  0.0000000\n",
            "Cost after step    55:  0.0000000\n",
            "Cost after step    60:  0.0000000\n",
            "Cost after step    65:  0.0000000\n",
            "Cost after step    70:  0.0000000\n",
            "Cost after step    75:  0.0000000\n",
            "Cost after step    80:  0.0000000\n",
            "Cost after step    85:  0.0000000\n",
            "Cost after step    90:  0.0000000\n",
            "Cost after step    95:  0.0000000\n",
            "Cost after step   100:  0.0000000\n",
            "Optimized rotation angles: [1.20671364 0.01      ]\n"
          ],
          "name": "stdout"
        }
      ]
    },
    {
      "cell_type": "code",
      "metadata": {
        "colab": {
          "base_uri": "https://localhost:8080/"
        },
        "id": "ZPdBPbzWJ5h8",
        "outputId": "444f676d-37c7-46e9-f9d9-c3878a14ea6e"
      },
      "source": [
        "result = params # [1.20671364, 0.01]\r\n",
        "print(photon_redirection(result))\r\n",
        "print(qubit_rotation(0.5, 0.1))"
      ],
      "execution_count": null,
      "outputs": [
        {
          "output_type": "stream",
          "text": [
            "0.8731983044562817\n",
            "0.8731983044562817\n"
          ],
          "name": "stdout"
        }
      ]
    },
    {
      "cell_type": "code",
      "metadata": {
        "id": "bjd04GFeKQth"
      },
      "source": [
        ""
      ],
      "execution_count": null,
      "outputs": []
    }
  ]
}