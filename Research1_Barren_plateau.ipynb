{
  "nbformat": 4,
  "nbformat_minor": 0,
  "metadata": {
    "colab": {
      "name": "Research1_Barren plateau.ipynb",
      "provenance": [],
      "collapsed_sections": [],
      "authorship_tag": "ABX9TyMT386xLqIwW+gnaD4QJp1D",
      "include_colab_link": true
    },
    "kernelspec": {
      "name": "python3",
      "display_name": "Python 3"
    }
  },
  "cells": [
    {
      "cell_type": "markdown",
      "metadata": {
        "id": "view-in-github",
        "colab_type": "text"
      },
      "source": [
        "<a href=\"https://colab.research.google.com/github/sunlaito/LearnPennyLane/blob/main/Research1_Barren_plateau.ipynb\" target=\"_parent\"><img src=\"https://colab.research.google.com/assets/colab-badge.svg\" alt=\"Open In Colab\"/></a>"
      ]
    },
    {
      "cell_type": "code",
      "metadata": {
        "id": "H5zohAjslDUP"
      },
      "source": [
        "# Ref: https://pennylane.ai/qml/demos/tutorial_barren_plateaus.html"
      ],
      "execution_count": null,
      "outputs": []
    },
    {
      "cell_type": "code",
      "metadata": {
        "id": "wKLor0RCk04o"
      },
      "source": [
        "!pip install pennylane --upgrade"
      ],
      "execution_count": null,
      "outputs": []
    },
    {
      "cell_type": "code",
      "metadata": {
        "id": "HtM1qyGFk_I1"
      },
      "source": [
        "import pennylane as qml\r\n",
        "from pennylane import numpy as np\r\n",
        "import matplotlib.pyplot as plt"
      ],
      "execution_count": 2,
      "outputs": []
    },
    {
      "cell_type": "code",
      "metadata": {
        "id": "f-d3-uf6lEWr"
      },
      "source": [
        "# create a randomized variational circuit"
      ],
      "execution_count": null,
      "outputs": []
    },
    {
      "cell_type": "code",
      "metadata": {
        "id": "gYJQxiqJlPL7"
      },
      "source": [
        "# Set a seed for reproducibility\r\n",
        "np.random.seed(42)\r\n",
        "\r\n",
        "num_qubits = 4\r\n",
        "dev = qml.device(\"default.qubit\", wires=num_qubits)\r\n",
        "gate_set = [qml.RX, qml.RY, qml.RZ]\r\n",
        "# gate_set is a set of rotation functions\r\n",
        "\r\n",
        "\r\n",
        "def rand_circuit(params, random_gate_sequence=None, num_qubits=None):\r\n",
        "    \"\"\"A random variational quantum circuit.\r\n",
        "\r\n",
        "    Args:\r\n",
        "        params (array[float]): array of parameters\r\n",
        "        random_gate_sequence (dict): a dictionary of random gates\r\n",
        "        num_qubits (int): the number of qubits in the circuit\r\n",
        "\r\n",
        "    Returns:\r\n",
        "        float: the expectation value of the target observable\r\n",
        "    \"\"\"\r\n",
        "    for i in range(num_qubits):\r\n",
        "        qml.RY(np.pi / 4, wires=i)\r\n",
        "\r\n",
        "    for i in range(num_qubits):\r\n",
        "        random_gate_sequence[i](params[i], wires=i)\r\n",
        "\r\n",
        "    for i in range(num_qubits - 1):\r\n",
        "        qml.CZ(wires=[i, i + 1])\r\n",
        "\r\n",
        "    H = np.zeros((2 ** num_qubits, 2 ** num_qubits))\r\n",
        "    H[0, 0] = 1\r\n",
        "    wirelist = [i for i in range(num_qubits)]\r\n",
        "    return qml.expval(qml.Hermitian(H, wirelist))  # qml.Hermitian(H, wirelist): H must be a square hermitian matrix with size 2**len(wirelist)"
      ],
      "execution_count": 3,
      "outputs": []
    },
    {
      "cell_type": "code",
      "metadata": {
        "colab": {
          "base_uri": "https://localhost:8080/"
        },
        "id": "RPZlRDJLmBsr",
        "outputId": "56e5e2fc-fa14-49a3-dae5-f99df0f03a7a"
      },
      "source": [
        "grad_vals = []\r\n",
        "num_samples = 200\r\n",
        "\r\n",
        "for i in range(num_samples):\r\n",
        "    gate_sequence = {i: np.random.choice(gate_set) for i in range(num_qubits)}\r\n",
        "    qcircuit = qml.QNode(rand_circuit, dev)\r\n",
        "    grad = qml.grad(qcircuit, argnum=0)\r\n",
        "    params = np.random.uniform(0, 2 * np.pi, size=num_qubits)\r\n",
        "    gradient = grad(params, random_gate_sequence=gate_sequence, num_qubits=num_qubits)\r\n",
        "    grad_vals.append(gradient[-1]) \r\n",
        "    # For demonstration, we only consider the gradient of the output with respect to the last parameter in the circuit.\r\n",
        "    # Hence we choose to save gradient[-1] only.\r\n",
        "\r\n",
        "print(\"Variance of the gradients for {} random circuits: {}\".format(\r\n",
        "    num_samples, np.var(grad_vals)\r\n",
        "    )\r\n",
        ")\r\n",
        "print(\"Mean of the gradients for {} random circuits: {}\".format(\r\n",
        "    num_samples, np.mean(grad_vals)\r\n",
        "    )\r\n",
        ")"
      ],
      "execution_count": 14,
      "outputs": [
        {
          "output_type": "stream",
          "text": [
            "Variance of the gradients for 200 random circuits: 0.006553222742890091\n",
            "Mean of the gradients for 200 random circuits: 0.004871547316461286\n"
          ],
          "name": "stdout"
        }
      ]
    },
    {
      "cell_type": "code",
      "metadata": {
        "id": "ayOTy_i4tGoI"
      },
      "source": [
        "# repeat the above analysis with increasing number of qubits."
      ],
      "execution_count": null,
      "outputs": []
    },
    {
      "cell_type": "code",
      "metadata": {
        "colab": {
          "base_uri": "https://localhost:8080/",
          "height": 279
        },
        "id": "at-mLsxSuU2L",
        "outputId": "1bcbafe9-672f-4c7b-c934-5a0142c17ee7"
      },
      "source": [
        "qubits = [2, 3, 4, 5, 6]\r\n",
        "variances = []\r\n",
        "\r\n",
        "\r\n",
        "for num_qubits in qubits:\r\n",
        "    grad_vals = []\r\n",
        "    for i in range(num_samples):\r\n",
        "        dev = qml.device(\"default.qubit\", wires=num_qubits)\r\n",
        "        qcircuit = qml.QNode(rand_circuit, dev)\r\n",
        "        grad = qml.grad(qcircuit, argnum=0)\r\n",
        "\r\n",
        "        gate_set = [qml.RX, qml.RY, qml.RZ]\r\n",
        "        random_gate_sequence = {i: np.random.choice(gate_set) for i in range(num_qubits)}\r\n",
        "\r\n",
        "        params = np.random.uniform(0, np.pi, size=num_qubits)\r\n",
        "        gradient = grad(\r\n",
        "            params, random_gate_sequence=random_gate_sequence, num_qubits=num_qubits\r\n",
        "        )\r\n",
        "        grad_vals.append(gradient[-1])\r\n",
        "    variances.append(np.var(grad_vals))\r\n",
        "\r\n",
        "variances = np.array(variances)\r\n",
        "qubits = np.array(qubits)\r\n",
        "\r\n",
        "\r\n",
        "# Fit the semilog plot to a straight line\r\n",
        "p = np.polyfit(qubits, np.log(variances), 1)\r\n",
        "\r\n",
        "\r\n",
        "# Plot the straight line fit to the semilog\r\n",
        "plt.semilogy(qubits, variances, \"o\")\r\n",
        "plt.semilogy(qubits, np.exp(p[0] * qubits + p[1]), \"o-.\", label=\"Slope {:3.2f}\".format(p[0]))\r\n",
        "\r\n",
        "\r\n",
        "plt.xlabel(r\"N Qubits\")\r\n",
        "plt.ylabel(r\"$\\langle \\partial \\theta_{1, 1} E\\rangle$ variance\")\r\n",
        "plt.legend()\r\n",
        "plt.show()"
      ],
      "execution_count": 15,
      "outputs": [
        {
          "output_type": "display_data",
          "data": {
            "image/png": "[encoded data removed]",
            "text/plain": [
              "<Figure size 432x288 with 1 Axes>"
            ]
          },
          "metadata": {
            "tags": [],
            "needs_background": "light"
          }
        }
      ]
    },
    {
      "cell_type": "code",
      "metadata": {
        "colab": {
          "base_uri": "https://localhost:8080/",
          "height": 283
        },
        "id": "7RISR3kpuVhM",
        "outputId": "ff02ab0a-88d5-4b63-d6b2-93c068c718ff"
      },
      "source": [
        "# Directly plot qubits vs variances\r\n",
        "plt.plot(qubits, variances, \"o\")\r\n",
        "plt.plot(qubits, np.exp(p[0] * qubits + p[1]), \"o-.\", )\r\n",
        "\r\n",
        "plt.xlabel(r\"N Qubits\")\r\n",
        "plt.ylabel(r\"$\\langle \\partial \\theta_{1, 1} E\\rangle$ variance\")\r\n",
        "plt.show()"
      ],
      "execution_count": 20,
      "outputs": [
        {
          "output_type": "display_data",
          "data": {
            "image/png": "[encoded data removed]",
            "text/plain": [
              "<Figure size 432x288 with 1 Axes>"
            ]
          },
          "metadata": {
            "tags": [],
            "needs_background": "light"
          }
        }
      ]
    },
    {
      "cell_type": "code",
      "metadata": {
        "id": "lik9f2qOv3zJ"
      },
      "source": [
        "# We note that the variance of gradients decrease exponentially as the number of qubits increases\r\n",
        "# Thus, randomly selected quantum circuits might not be the best option to choose while implementing variational quantum algorithms."
      ],
      "execution_count": null,
      "outputs": []
    }
  ]
}