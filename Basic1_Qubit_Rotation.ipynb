{
  "nbformat": 4,
  "nbformat_minor": 0,
  "metadata": {
    "colab": {
      "name": "Basic1 Qubit Rotation.ipynb",
      "provenance": [],
      "collapsed_sections": [],
      "authorship_tag": "ABX9TyNZ7LkU2NIDMhjnhIakqAbO",
      "include_colab_link": true
    },
    "kernelspec": {
      "name": "python3",
      "display_name": "Python 3"
    }
  },
  "cells": [
    {
      "cell_type": "markdown",
      "metadata": {
        "id": "view-in-github",
        "colab_type": "text"
      },
      "source": [
        "<a href=\"https://colab.research.google.com/github/sunlaito/LearnPennyLane/blob/main/Basic1_Qubit_Rotation.ipynb\" target=\"_parent\"><img src=\"https://colab.research.google.com/assets/colab-badge.svg\" alt=\"Open In Colab\"/></a>"
      ]
    },
    {
      "cell_type": "code",
      "metadata": {
        "id": "rnRc25IUOjGn"
      },
      "source": [
        "!pip install pennylane --upgrade\r\n",
        "# The symbol \"!\" indicates the following statements are excuted in the system shell"
      ],
      "execution_count": null,
      "outputs": []
    },
    {
      "cell_type": "code",
      "metadata": {
        "id": "-yoZabCIdp9E"
      },
      "source": [
        "# Ref: https://pennylane.ai/qml/demos/tutorial_qubit_rotation.html"
      ],
      "execution_count": null,
      "outputs": []
    },
    {
      "cell_type": "code",
      "metadata": {
        "id": "Gs2ONLE8dNUC"
      },
      "source": [
        "import pennylane as qml\r\n",
        "from pennylane import numpy as np\r\n",
        "# When constructing a hybrid quantum/classical computational model with PennyLane, \r\n",
        "# it is important to always import NumPy from PennyLane, not the standard NumPy!"
      ],
      "execution_count": null,
      "outputs": []
    },
    {
      "cell_type": "code",
      "metadata": {
        "id": "QEVIS_0SdxFc"
      },
      "source": [
        "# device\r\n",
        "dev_qubit = qml.device(\"default.qubit\", wires=1)"
      ],
      "execution_count": null,
      "outputs": []
    },
    {
      "cell_type": "code",
      "metadata": {
        "id": "1Szo6q89eKcJ"
      },
      "source": [
        "# Quantum function and QNode\r\n",
        "@qml.qnode(dev_qubit) # the qnode() decorator\r\n",
        "def circuit(params):\r\n",
        "    qml.RX(params[0], wires=0)\r\n",
        "    qml.RY(params[1], wires=0)\r\n",
        "    return qml.expval(qml.PauliZ(0))"
      ],
      "execution_count": null,
      "outputs": []
    },
    {
      "cell_type": "code",
      "metadata": {
        "colab": {
          "base_uri": "https://localhost:8080/"
        },
        "id": "JFLjIdDZfIFE",
        "outputId": "8b90bd15-a67d-4279-a27d-20b39a730162"
      },
      "source": [
        "paraTest= [0.54, 0.12];\r\n",
        "print(circuit(paraTest))"
      ],
      "execution_count": null,
      "outputs": [
        {
          "output_type": "stream",
          "text": [
            "0.8515405859048366\n"
          ],
          "name": "stdout"
        }
      ]
    },
    {
      "cell_type": "code",
      "metadata": {
        "id": "yzg3UfevfTIG"
      },
      "source": [
        "# Quantum Gradients\r\n",
        "dcircuit = qml.grad(circuit, argnum=0) \r\n",
        "# Function (grad) returns a function\r\n",
        "# argnum=0 as circuit takes only one argument (params)"
      ],
      "execution_count": null,
      "outputs": []
    },
    {
      "cell_type": "code",
      "metadata": {
        "colab": {
          "base_uri": "https://localhost:8080/"
        },
        "id": "nflEMD3jgNlA",
        "outputId": "01e3bab5-ef56-43f3-e33d-7ff8e2c648ac"
      },
      "source": [
        "print(dcircuit(para))"
      ],
      "execution_count": null,
      "outputs": [
        {
          "output_type": "stream",
          "text": [
            "[-0.5104386525165019, -0.10267819945693202]\n"
          ],
          "name": "stdout"
        }
      ]
    },
    {
      "cell_type": "code",
      "metadata": {
        "id": "a2hDmyjngdm4"
      },
      "source": [
        "# ciruit with 2 positional arguments\r\n",
        "@qml.qnode(dev1)\r\n",
        "def circuit2(phi1, phi2):\r\n",
        "    qml.RX(phi1, wires=0)\r\n",
        "    qml.RY(phi2, wires=0)\r\n",
        "    return qml.expval(qml.PauliZ(0))"
      ],
      "execution_count": null,
      "outputs": []
    },
    {
      "cell_type": "code",
      "metadata": {
        "id": "UIhzuqyKhPfh"
      },
      "source": [
        "dcircuit2a = qml.grad(circuit2, argnum=0)\r\n",
        "dcircuit2b = qml.grad(circuit2, argnum=1)\r\n",
        "dcircuit2 = qml.grad(circuit2, argnum=[0, 1])"
      ],
      "execution_count": null,
      "outputs": []
    },
    {
      "cell_type": "code",
      "metadata": {
        "colab": {
          "base_uri": "https://localhost:8080/"
        },
        "id": "OP3JSmu3hjt8",
        "outputId": "320dfba7-a5b2-46b9-fb13-8497c223a08f"
      },
      "source": [
        "print(dcircuit2a(0.54, 0.12))\r\n",
        "print(dcircuit2b(0.54, 0.12))\r\n",
        "print(dcircuit2(0.54, 0.12))"
      ],
      "execution_count": null,
      "outputs": [
        {
          "output_type": "stream",
          "text": [
            "-0.5104386525165019\n",
            "-0.10267819945693202\n",
            "(array(-0.51043865), array(-0.1026782))\n"
          ],
          "name": "stdout"
        }
      ]
    },
    {
      "cell_type": "code",
      "metadata": {
        "id": "KNJ0EvDqhSOo"
      },
      "source": [
        "# Optimization\r\n",
        "def cost(x):\r\n",
        "    return circuit(x)"
      ],
      "execution_count": null,
      "outputs": []
    },
    {
      "cell_type": "code",
      "metadata": {
        "colab": {
          "base_uri": "https://localhost:8080/"
        },
        "id": "onqe0BVliQfG",
        "outputId": "bb6b8a4e-543c-4e27-85a9-cef71d1a0a7b"
      },
      "source": [
        "init_params = [0.011, 0.012]\r\n",
        "print(cost(init_params))"
      ],
      "execution_count": null,
      "outputs": [
        {
          "output_type": "stream",
          "text": [
            "0.9998675058299389\n"
          ],
          "name": "stdout"
        }
      ]
    },
    {
      "cell_type": "code",
      "metadata": {
        "colab": {
          "base_uri": "https://localhost:8080/"
        },
        "id": "mLDt6Q3AiUIM",
        "outputId": "ed83ef6f-5041-4c68-af05-9d771e720740"
      },
      "source": [
        "# initialise the optimizer\r\n",
        "# Note that the optimizer always MINIMIZE the cost function\r\n",
        "opt = qml.GradientDescentOptimizer(stepsize=0.4)\r\n",
        "\r\n",
        "# set the number of steps\r\n",
        "steps = 100\r\n",
        "# set the initial parameter values\r\n",
        "params = init_params\r\n",
        "\r\n",
        "for i in range(steps):\r\n",
        "    # update the circuit parameters\r\n",
        "    params = opt.step(cost, params)\r\n",
        "\r\n",
        "    if (i + 1) % 5 == 0:\r\n",
        "        print(\"Cost after step {:5d}: {: .7f}\".format(i + 1, cost(params)))\r\n",
        "\r\n",
        "print(\"Optimized rotation angles: {}\".format(params))        "
      ],
      "execution_count": null,
      "outputs": [
        {
          "output_type": "stream",
          "text": [
            "Cost after step     5:  0.9961778\n",
            "Cost after step    10:  0.8974944\n",
            "Cost after step    15:  0.1440490\n",
            "Cost after step    20: -0.1536720\n",
            "Cost after step    25: -0.9152496\n",
            "Cost after step    30: -0.9994046\n",
            "Cost after step    35: -0.9999964\n",
            "Cost after step    40: -1.0000000\n",
            "Cost after step    45: -1.0000000\n",
            "Cost after step    50: -1.0000000\n",
            "Cost after step    55: -1.0000000\n",
            "Cost after step    60: -1.0000000\n",
            "Cost after step    65: -1.0000000\n",
            "Cost after step    70: -1.0000000\n",
            "Cost after step    75: -1.0000000\n",
            "Cost after step    80: -1.0000000\n",
            "Cost after step    85: -1.0000000\n",
            "Cost after step    90: -1.0000000\n",
            "Cost after step    95: -1.0000000\n",
            "Cost after step   100: -1.0000000\n",
            "Optimized rotation angles: [6.125548051396419e-17, 3.1415926535897927]\n"
          ],
          "name": "stdout"
        }
      ]
    },
    {
      "cell_type": "code",
      "metadata": {
        "colab": {
          "base_uri": "https://localhost:8080/"
        },
        "id": "LhEzJ8m9kX2f",
        "outputId": "7111be27-8587-4505-8a01-01227fa92a09"
      },
      "source": [
        "init_params2 = np.array([0.011, 0.012])\r\n",
        "\r\n",
        "print(type(init_params))\r\n",
        "print(type(init_params2))"
      ],
      "execution_count": null,
      "outputs": [
        {
          "output_type": "stream",
          "text": [
            "<class 'list'>\n",
            "<class 'pennylane.numpy.tensor.tensor'>\n"
          ],
          "name": "stdout"
        }
      ]
    },
    {
      "cell_type": "code",
      "metadata": {
        "colab": {
          "base_uri": "https://localhost:8080/"
        },
        "id": "EOp7n43sk3bU",
        "outputId": "7d490bd6-645d-4c46-dfb1-74e4952c6da6"
      },
      "source": [
        "test1 = opt.step(cost, init_params)\r\n",
        "print(type(test1))"
      ],
      "execution_count": null,
      "outputs": [
        {
          "output_type": "stream",
          "text": [
            "<class 'list'>\n"
          ],
          "name": "stdout"
        }
      ]
    },
    {
      "cell_type": "code",
      "metadata": {
        "colab": {
          "base_uri": "https://localhost:8080/"
        },
        "id": "Ah1AdTomlGk7",
        "outputId": "8e36e5fe-c8fe-44a0-dd1a-d3ff77304513"
      },
      "source": [
        "test2 = opt.step(cost, init_params2)\r\n",
        "print(type(test2))"
      ],
      "execution_count": null,
      "outputs": [
        {
          "output_type": "stream",
          "text": [
            "<class 'numpy.ndarray'>\n"
          ],
          "name": "stdout"
        }
      ]
    },
    {
      "cell_type": "code",
      "metadata": {
        "id": "I0Sad-falJqP"
      },
      "source": [
        "# Note that the type of the return of (opt.step) will change according to the input argument\r\n",
        "# Usually it does not matter whether we set (init_params) as list or array "
      ],
      "execution_count": null,
      "outputs": []
    }
  ]
}