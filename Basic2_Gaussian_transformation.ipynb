{
  "nbformat": 4,
  "nbformat_minor": 0,
  "metadata": {
    "colab": {
      "name": "Basic2 Gaussian transformation.ipynb",
      "provenance": [],
      "collapsed_sections": [],
      "authorship_tag": "ABX9TyP8/O39Q9/zO0ZSl8ku7UcP",
      "include_colab_link": true
    },
    "kernelspec": {
      "name": "python3",
      "display_name": "Python 3"
    }
  },
  "cells": [
    {
      "cell_type": "markdown",
      "metadata": {
        "id": "view-in-github",
        "colab_type": "text"
      },
      "source": [
        "<a href=\"https://colab.research.google.com/github/sunlaito/LearnPennyLane/blob/main/Basic2_Gaussian_transformation.ipynb\" target=\"_parent\"><img src=\"https://colab.research.google.com/assets/colab-badge.svg\" alt=\"Open In Colab\"/></a>"
      ]
    },
    {
      "cell_type": "code",
      "metadata": {
        "id": "Hq0nOyYmn9TA"
      },
      "source": [
        "!pip install pennylane --upgrade"
      ],
      "execution_count": null,
      "outputs": []
    },
    {
      "cell_type": "code",
      "metadata": {
        "id": "5ovMA6vqo6Ci"
      },
      "source": [
        "# Ref: https://pennylane.ai/qml/demos/tutorial_gaussian_transformation.html"
      ],
      "execution_count": null,
      "outputs": []
    },
    {
      "cell_type": "code",
      "metadata": {
        "id": "8vPm1OsTpBxI"
      },
      "source": [
        "import pennylane as qml\r\n",
        "from pennylane import numpy as np"
      ],
      "execution_count": null,
      "outputs": []
    },
    {
      "cell_type": "code",
      "metadata": {
        "id": "d46cf_PJpTr1"
      },
      "source": [
        "# device\r\n",
        "dev_gaussian = qml.device(\"default.gaussian\", wires=1)"
      ],
      "execution_count": null,
      "outputs": []
    },
    {
      "cell_type": "code",
      "metadata": {
        "id": "FBpaTLkfpd5w"
      },
      "source": [
        "# QNode\r\n",
        "@qml.qnode(dev_gaussian)\r\n",
        "def mean_photon_gaussian(mag_alpha, phase_alpha, phi):\r\n",
        "    qml.Displacement(mag_alpha, phase_alpha, wires=0)\r\n",
        "    qml.Rotation(phi, wires=0)\r\n",
        "    return qml.expval(qml.NumberOperator(0))"
      ],
      "execution_count": null,
      "outputs": []
    },
    {
      "cell_type": "code",
      "metadata": {
        "id": "U5zC2B4fqH9T"
      },
      "source": [
        "# Optimization\r\n",
        "def cost(params):\r\n",
        "    return (mean_photon_gaussian(params[0], params[1], params[2]) - 1.0) ** 2"
      ],
      "execution_count": null,
      "outputs": []
    },
    {
      "cell_type": "code",
      "metadata": {
        "colab": {
          "base_uri": "https://localhost:8080/"
        },
        "id": "O9fxTH_vqbed",
        "outputId": "eae35f1c-af5b-4aab-a151-c1d605fc0ec0"
      },
      "source": [
        "init_params = [0.015, 0.02, 0.005]\r\n",
        "print(cost(init_params))"
      ],
      "execution_count": null,
      "outputs": [
        {
          "output_type": "stream",
          "text": [
            "0.9995500506249999\n"
          ],
          "name": "stdout"
        }
      ]
    },
    {
      "cell_type": "code",
      "metadata": {
        "colab": {
          "base_uri": "https://localhost:8080/"
        },
        "id": "_qc9WAa6q1YD",
        "outputId": "3778425f-43de-4824-c467-844b67e144b2"
      },
      "source": [
        "# initialise the optimizer\r\n",
        "opt = qml.GradientDescentOptimizer(stepsize=0.1)\r\n",
        "\r\n",
        "# set the number of steps\r\n",
        "steps = 20\r\n",
        "# set the initial parameter values\r\n",
        "params = init_params\r\n",
        "\r\n",
        "for i in range(steps):\r\n",
        "    # update the circuit parameters\r\n",
        "    params = opt.step(cost, params)\r\n",
        "\r\n",
        "    print(\"Cost after step {:5d}: {:8f}\".format(i + 1, cost(params)))\r\n",
        "\r\n",
        "print(\"Optimized mag_alpha:{:8f}\".format(params[0]))\r\n",
        "print(\"Optimized phase_alpha:{:8f}\".format(params[1]))\r\n",
        "print(\"Optimized phi:{:8f}\".format(params[2]))"
      ],
      "execution_count": null,
      "outputs": [
        {
          "output_type": "stream",
          "text": [
            "Cost after step     1: 0.999118\n",
            "Cost after step     2: 0.998273\n",
            "Cost after step     3: 0.996618\n",
            "Cost after step     4: 0.993382\n",
            "Cost after step     5: 0.987074\n",
            "Cost after step     6: 0.974837\n",
            "Cost after step     7: 0.951332\n",
            "Cost after step     8: 0.907043\n",
            "Cost after step     9: 0.826649\n",
            "Cost after step    10: 0.690812\n",
            "Cost after step    11: 0.490303\n",
            "Cost after step    12: 0.258845\n",
            "Cost after step    13: 0.083224\n",
            "Cost after step    14: 0.013179\n",
            "Cost after step    15: 0.001001\n",
            "Cost after step    16: 0.000049\n",
            "Cost after step    17: 0.000002\n",
            "Cost after step    18: 0.000000\n",
            "Cost after step    19: 0.000000\n",
            "Cost after step    20: 0.000000\n",
            "Optimized mag_alpha:0.999994\n",
            "Optimized phase_alpha:0.020000\n",
            "Optimized phi:0.005000\n"
          ],
          "name": "stdout"
        }
      ]
    },
    {
      "cell_type": "code",
      "metadata": {
        "id": "UwBcwZDCrWRL"
      },
      "source": [
        ""
      ],
      "execution_count": null,
      "outputs": []
    }
  ]
}