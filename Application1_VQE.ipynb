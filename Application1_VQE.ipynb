{
  "nbformat": 4,
  "nbformat_minor": 0,
  "metadata": {
    "colab": {
      "name": "Application1_VQE.ipynb",
      "provenance": [],
      "collapsed_sections": [],
      "authorship_tag": "ABX9TyME1m74/SQEjvXfOwiW5Opx",
      "include_colab_link": true
    },
    "kernelspec": {
      "name": "python3",
      "display_name": "Python 3"
    }
  },
  "cells": [
    {
      "cell_type": "markdown",
      "metadata": {
        "id": "view-in-github",
        "colab_type": "text"
      },
      "source": [
        "<a href=\"https://colab.research.google.com/github/sunlaito/LearnPennyLane/blob/main/Application1_VQE.ipynb\" target=\"_parent\"><img src=\"https://colab.research.google.com/assets/colab-badge.svg\" alt=\"Open In Colab\"/></a>"
      ]
    },
    {
      "cell_type": "code",
      "metadata": {
        "id": "O-lNKhHW_i6Z"
      },
      "source": [
        "# Ref: https://pennylane.ai/qml/demos/tutorial_vqe.html"
      ],
      "execution_count": null,
      "outputs": []
    },
    {
      "cell_type": "code",
      "metadata": {
        "id": "71r7APtgwpS1"
      },
      "source": [
        "!pip install pennylane --upgrade"
      ],
      "execution_count": null,
      "outputs": []
    },
    {
      "cell_type": "code",
      "metadata": {
        "id": "5HH0WL4619N4"
      },
      "source": [
        "!pip install pennylane-qchem # Restart Runtime in Colab after installation! "
      ],
      "execution_count": null,
      "outputs": []
    },
    {
      "cell_type": "code",
      "metadata": {
        "colab": {
          "base_uri": "https://localhost:8080/"
        },
        "id": "fhKrCVbu1wok",
        "outputId": "b00150ac-165a-473b-a534-03fb03259e83"
      },
      "source": [
        "qml.about()"
      ],
      "execution_count": 2,
      "outputs": [
        {
          "output_type": "stream",
          "text": [
            "Name: PennyLane\n",
            "Version: 0.13.0\n",
            "Summary: PennyLane is a Python quantum machine learning library by Xanadu Inc.\n",
            "Home-page: https://github.com/XanaduAI/pennylane\n",
            "Author: None\n",
            "Author-email: None\n",
            "License: Apache License 2.0\n",
            "Location: /usr/local/lib/python3.6/dist-packages\n",
            "Requires: scipy, autograd, networkx, toml, appdirs, numpy, semantic-version\n",
            "Required-by: PennyLane-Qchem\n",
            "Platform info:           Linux-4.19.112+-x86_64-with-Ubuntu-18.04-bionic\n",
            "Python version:          3.6.9\n",
            "Numpy version:           1.19.5\n",
            "Scipy version:           1.4.1\n",
            "Installed devices:\n",
            "- default.gaussian (PennyLane-0.13.0)\n",
            "- default.mixed (PennyLane-0.13.0)\n",
            "- default.qubit (PennyLane-0.13.0)\n",
            "- default.qubit.autograd (PennyLane-0.13.0)\n",
            "- default.qubit.tf (PennyLane-0.13.0)\n",
            "- default.tensor (PennyLane-0.13.0)\n",
            "- default.tensor.tf (PennyLane-0.13.0)\n"
          ],
          "name": "stdout"
        }
      ]
    },
    {
      "cell_type": "code",
      "metadata": {
        "id": "Tnpj0ubjwy_t"
      },
      "source": [
        "import pennylane as qml\r\n",
        "from pennylane import qchem\r\n",
        "from pennylane import numpy as np"
      ],
      "execution_count": 3,
      "outputs": []
    },
    {
      "cell_type": "code",
      "metadata": {
        "id": "kVRbB4nrw_um"
      },
      "source": [
        "# upload the geometry file \"h2.xyz\"\r\n",
        "# h2.xyz can be downloaded via this link https://pennylane.ai/qml/_downloads/7191118aef248d2adc5fe59048afe782/h2.xyz\r\n",
        "from google.colab import files\r\n",
        "uploaded = files.upload()"
      ],
      "execution_count": null,
      "outputs": []
    },
    {
      "cell_type": "code",
      "metadata": {
        "id": "o0IRhLI50elJ"
      },
      "source": [
        "for fn in uploaded.keys():\r\n",
        "  print('User uploaded file \"{name}\" with length {length} bytes'.format(\r\n",
        "      name=fn, length=len(uploaded[fn])))"
      ],
      "execution_count": null,
      "outputs": []
    },
    {
      "cell_type": "code",
      "metadata": {
        "id": "Fg1H4dXB235v"
      },
      "source": [
        "# Building the electronic Hamiltonian"
      ],
      "execution_count": null,
      "outputs": []
    },
    {
      "cell_type": "code",
      "metadata": {
        "id": "irWzMWIN0tuF"
      },
      "source": [
        "geometry = 'h2.xyz'\r\n",
        "charge = 0\r\n",
        "multiplicity = 1\r\n",
        "basis_set = 'sto-3g'\r\n",
        "name = 'h2'"
      ],
      "execution_count": 8,
      "outputs": []
    },
    {
      "cell_type": "code",
      "metadata": {
        "colab": {
          "base_uri": "https://localhost:8080/"
        },
        "id": "oT83CKyj1oTO",
        "outputId": "6e92225f-c250-4d8a-92ea-eeb7d4801863"
      },
      "source": [
        "h, qubits = qchem.molecular_hamiltonian(\r\n",
        "    name,\r\n",
        "    geometry,\r\n",
        "    charge=charge,\r\n",
        "    mult=multiplicity,\r\n",
        "    basis=basis_set,\r\n",
        "    active_electrons=2,\r\n",
        "    active_orbitals=2,\r\n",
        "    mapping='jordan_wigner'\r\n",
        ")\r\n",
        "\r\n",
        "print('Number of qubits = ', qubits)\r\n",
        "print('Hamiltonian is ', h)"
      ],
      "execution_count": 9,
      "outputs": [
        {
          "output_type": "stream",
          "text": [
            "Number of qubits =  4\n",
            "Hamiltonian is  (-0.04207897647782276) [I0]\n",
            "+ (0.17771287465139946) [Z0]\n",
            "+ (0.1777128746513994) [Z1]\n",
            "+ (-0.24274280513140462) [Z2]\n",
            "+ (-0.24274280513140462) [Z3]\n",
            "+ (0.17059738328801052) [Z0 Z1]\n",
            "+ (0.04475014401535161) [Y0 X1 X2 Y3]\n",
            "+ (-0.04475014401535161) [Y0 Y1 X2 X3]\n",
            "+ (-0.04475014401535161) [X0 X1 Y2 Y3]\n",
            "+ (0.04475014401535161) [X0 Y1 Y2 X3]\n",
            "+ (0.12293305056183798) [Z0 Z2]\n",
            "+ (0.1676831945771896) [Z0 Z3]\n",
            "+ (0.1676831945771896) [Z1 Z2]\n",
            "+ (0.12293305056183798) [Z1 Z3]\n",
            "+ (0.17627640804319591) [Z2 Z3]\n"
          ],
          "name": "stdout"
        }
      ]
    },
    {
      "cell_type": "code",
      "metadata": {
        "id": "5BVA2IzD1p1k"
      },
      "source": [
        "# Implementing the VQE algorithm"
      ],
      "execution_count": null,
      "outputs": []
    },
    {
      "cell_type": "code",
      "metadata": {
        "id": "7qe0kTh428KL"
      },
      "source": [
        "dev = qml.device('default.qubit', wires=qubits)\r\n",
        "\r\n",
        "def circuit(params, wires):\r\n",
        "    qml.BasisState(np.array([1, 1, 0, 0]), wires=wires)\r\n",
        "    for i in wires:\r\n",
        "        qml.Rot(*params[i], wires=i)\r\n",
        "    qml.CNOT(wires=[2, 3])\r\n",
        "    qml.CNOT(wires=[2, 0])\r\n",
        "    qml.CNOT(wires=[3, 1])\r\n",
        "    # why setting the CNOT gates in this way?"
      ],
      "execution_count": 10,
      "outputs": []
    },
    {
      "cell_type": "code",
      "metadata": {
        "id": "s8fzJlZx3rxV"
      },
      "source": [
        "# Cost function\r\n",
        "cost_fn = qml.ExpvalCost(circuit, h, dev)"
      ],
      "execution_count": 11,
      "outputs": []
    },
    {
      "cell_type": "code",
      "metadata": {
        "colab": {
          "base_uri": "https://localhost:8080/"
        },
        "id": "Y8axjl664ETt",
        "outputId": "0b1adcfc-35e3-4d55-dc41-51602b6fc1b8"
      },
      "source": [
        "# Optimization\r\n",
        "opt = qml.GradientDescentOptimizer(stepsize=0.4)\r\n",
        "np.random.seed(0)\r\n",
        "params = np.random.normal(0, np.pi, (qubits, 3))\r\n",
        "\r\n",
        "print(params)"
      ],
      "execution_count": 12,
      "outputs": [
        {
          "output_type": "stream",
          "text": [
            "[[ 5.54193389  1.25713095  3.07479606]\n",
            " [ 7.03997361  5.86710646 -3.07020901]\n",
            " [ 2.98479079 -0.47550269 -0.32427159]\n",
            " [ 1.28993324  0.45252622  4.56873497]]\n"
          ],
          "name": "stdout"
        }
      ]
    },
    {
      "cell_type": "code",
      "metadata": {
        "colab": {
          "base_uri": "https://localhost:8080/"
        },
        "id": "rjm3RP9a4MwP",
        "outputId": "2418338f-d3b9-49f1-9420-40824d793d44"
      },
      "source": [
        "max_iterations = 200\r\n",
        "conv_tol = 1e-06\r\n",
        "\r\n",
        "prev_energy = cost_fn(params)\r\n",
        "for n in range(max_iterations):\r\n",
        "    params = opt.step(cost_fn, params)\r\n",
        "    energy = cost_fn(params)\r\n",
        "    conv = np.abs(energy - prev_energy)\r\n",
        "\r\n",
        "    if n % 20 == 0:\r\n",
        "        print('Iteration = {:},  Energy = {:.8f} Ha'.format(n, energy))\r\n",
        "\r\n",
        "    if conv <= conv_tol:\r\n",
        "        break\r\n",
        "\r\n",
        "    prev_energy = energy\r\n",
        "\r\n",
        "print()\r\n",
        "print('Final convergence parameter = {:.8f} Ha'.format(conv))\r\n",
        "print('Final value of the ground-state energy = {:.8f} Ha'.format(energy))\r\n",
        "print('Accuracy with respect to the FCI energy: {:.8f} Ha ({:.8f} kcal/mol)'.format(\r\n",
        "    np.abs(energy - (-1.136189454088)), np.abs(energy - (-1.136189454088))*627.503\r\n",
        "    )\r\n",
        ")\r\n",
        "print()\r\n",
        "print('Final circuit parameters = \\n', params)"
      ],
      "execution_count": 13,
      "outputs": [
        {
          "output_type": "stream",
          "text": [
            "Iteration = 0,  Energy = -0.88179557 Ha\n",
            "Iteration = 20,  Energy = -1.13380513 Ha\n",
            "Iteration = 40,  Energy = -1.13558756 Ha\n",
            "Iteration = 60,  Energy = -1.13585794 Ha\n",
            "Iteration = 80,  Energy = -1.13600617 Ha\n",
            "Iteration = 100,  Energy = -1.13608848 Ha\n",
            "Iteration = 120,  Energy = -1.13613394 Ha\n",
            "\n",
            "Final convergence parameter = 0.00000099 Ha\n",
            "Final value of the ground-state energy = -1.13615709 Ha\n",
            "Accuracy with respect to the FCI energy: 0.00003237 Ha (0.02031093 kcal/mol)\n",
            "\n",
            "Final circuit parameters = \n",
            " [[ 5.54193389e+00  1.30219523e-08  3.07479606e+00]\n",
            " [ 7.03997361e+00  6.28318530e+00 -3.07020901e+00]\n",
            " [ 2.98479079e+00 -2.09540998e-01 -4.16893297e-02]\n",
            " [ 1.28993324e+00  1.30913909e-12  4.56873497e+00]]\n"
          ],
          "name": "stdout"
        }
      ]
    },
    {
      "cell_type": "code",
      "metadata": {
        "id": "Wczivmla6L0F"
      },
      "source": [
        "# test another circuit with different CNOT arrangements"
      ],
      "execution_count": null,
      "outputs": []
    },
    {
      "cell_type": "code",
      "metadata": {
        "id": "zyf4T0mu8iT5"
      },
      "source": [
        "dev = qml.device('default.qubit', wires=qubits)\r\n",
        "\r\n",
        "def circuitTest(params, wires):\r\n",
        "    qml.BasisState(np.array([1, 1, 0, 0]), wires=wires)\r\n",
        "    for i in wires:\r\n",
        "        qml.Rot(*params[i], wires=i)\r\n",
        "    qml.CNOT(wires=[0, 1])\r\n",
        "    qml.CNOT(wires=[1, 2])\r\n",
        "    qml.CNOT(wires=[2, 3])\r\n",
        "    # setting the CNOT gates in a different way"
      ],
      "execution_count": 20,
      "outputs": []
    },
    {
      "cell_type": "code",
      "metadata": {
        "id": "aX5N_tLx8iT7"
      },
      "source": [
        "# Cost function\r\n",
        "cost_Test = qml.ExpvalCost(circuitTest, h, dev)"
      ],
      "execution_count": 21,
      "outputs": []
    },
    {
      "cell_type": "code",
      "metadata": {
        "colab": {
          "base_uri": "https://localhost:8080/"
        },
        "id": "MSOeOr338iT8",
        "outputId": "7d6b1a27-0770-4995-b9c4-3930d723324f"
      },
      "source": [
        "# Optimization\r\n",
        "opt = qml.GradientDescentOptimizer(stepsize=0.4)\r\n",
        "np.random.seed(0)\r\n",
        "params = np.random.normal(0, np.pi, (qubits, 3))\r\n",
        "\r\n",
        "print(params)"
      ],
      "execution_count": 22,
      "outputs": [
        {
          "output_type": "stream",
          "text": [
            "[[ 5.54193389  1.25713095  3.07479606]\n",
            " [ 7.03997361  5.86710646 -3.07020901]\n",
            " [ 2.98479079 -0.47550269 -0.32427159]\n",
            " [ 1.28993324  0.45252622  4.56873497]]\n"
          ],
          "name": "stdout"
        }
      ]
    },
    {
      "cell_type": "code",
      "metadata": {
        "colab": {
          "base_uri": "https://localhost:8080/"
        },
        "id": "FSp5-fj18iT9",
        "outputId": "7d0d38c4-59f5-4a8b-8c2f-a768cb98adcf"
      },
      "source": [
        "max_iterations = 200\r\n",
        "conv_tol = 1e-06\r\n",
        "\r\n",
        "prev_energy = cost_Test(params)\r\n",
        "for n in range(max_iterations):\r\n",
        "    params = opt.step(cost_Test, params)\r\n",
        "    energy = cost_Test(params)\r\n",
        "    conv = np.abs(energy - prev_energy)\r\n",
        "\r\n",
        "    if n % 20 == 0:\r\n",
        "        print('Iteration = {:},  Energy = {:.8f} Ha'.format(n, energy))\r\n",
        "\r\n",
        "    if conv <= conv_tol:\r\n",
        "        break\r\n",
        "\r\n",
        "    prev_energy = energy\r\n",
        "\r\n",
        "print()\r\n",
        "print('Final convergence parameter = {:.8f} Ha'.format(conv))\r\n",
        "print('Final value of the ground-state energy = {:.8f} Ha'.format(energy))\r\n",
        "print('Accuracy with respect to the FCI energy: {:.8f} Ha ({:.8f} kcal/mol)'.format(\r\n",
        "    np.abs(energy - (-1.136189454088)), np.abs(energy - (-1.136189454088))*627.503\r\n",
        "    )\r\n",
        ")\r\n",
        "print()\r\n",
        "print('Final circuit parameters = \\n', params)"
      ],
      "execution_count": 23,
      "outputs": [
        {
          "output_type": "stream",
          "text": [
            "Iteration = 0,  Energy = -0.21400133 Ha\n",
            "Iteration = 20,  Energy = -0.51583110 Ha\n",
            "Iteration = 40,  Energy = -0.52089852 Ha\n",
            "Iteration = 60,  Energy = -0.52172470 Ha\n",
            "Iteration = 80,  Energy = -0.52185948 Ha\n",
            "\n",
            "Final convergence parameter = 0.00000091 Ha\n",
            "Final value of the ground-state energy = -0.52187598 Ha\n",
            "Accuracy with respect to the FCI energy: 0.61431348 Ha (385.48355048 kcal/mol)\n",
            "\n",
            "Final circuit parameters = \n",
            " [[ 5.54193389e+00  2.87321832e-05  3.07687141e+00]\n",
            " [ 7.03997361e+00  6.28318531e+00 -3.07020901e+00]\n",
            " [ 2.98479079e+00 -3.27071402e-09 -3.24271587e-01]\n",
            " [ 1.28993324e+00  1.31296649e-02  4.56873497e+00]]\n"
          ],
          "name": "stdout"
        }
      ]
    },
    {
      "cell_type": "code",
      "metadata": {
        "id": "mvOdYfQq9XNO"
      },
      "source": [
        "# Note that the result is not as good as the original circuit\r\n",
        "# It is crucial to set a proper circuit! "
      ],
      "execution_count": null,
      "outputs": []
    }
  ]
}