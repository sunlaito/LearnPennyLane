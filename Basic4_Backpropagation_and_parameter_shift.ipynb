{
  "nbformat": 4,
  "nbformat_minor": 0,
  "metadata": {
    "colab": {
      "name": "Basic4 Backpropagation and parameter-shift",
      "provenance": [],
      "collapsed_sections": [],
      "authorship_tag": "ABX9TyOnGmvihQzyjbwzLTUW+UHp",
      "include_colab_link": true
    },
    "kernelspec": {
      "name": "python3",
      "display_name": "Python 3"
    }
  },
  "cells": [
    {
      "cell_type": "markdown",
      "metadata": {
        "id": "view-in-github",
        "colab_type": "text"
      },
      "source": [
        "<a href=\"https://colab.research.google.com/github/sunlaito/LearnPennyLane/blob/main/Basic4_Backpropagation_and_parameter_shift.ipynb\" target=\"_parent\"><img src=\"https://colab.research.google.com/assets/colab-badge.svg\" alt=\"Open In Colab\"/></a>"
      ]
    },
    {
      "cell_type": "code",
      "metadata": {
        "id": "jdsAfmxxMR78"
      },
      "source": [
        "# Ref: https://pennylane.ai/qml/demos/tutorial_backprop.html"
      ],
      "execution_count": null,
      "outputs": []
    },
    {
      "cell_type": "code",
      "metadata": {
        "id": "FcZvvGHhMv_v"
      },
      "source": [
        "!pip install pennylane --upgrade"
      ],
      "execution_count": null,
      "outputs": []
    },
    {
      "cell_type": "code",
      "metadata": {
        "id": "KKPBS13cMfAF"
      },
      "source": [
        "import pennylane as qml\r\n",
        "from pennylane import numpy as np"
      ],
      "execution_count": null,
      "outputs": []
    },
    {
      "cell_type": "code",
      "metadata": {
        "id": "JKNm6wv8M2e4"
      },
      "source": [
        "# create a device to execute the circuit on\r\n",
        "dev = qml.device(\"default.qubit\", wires=3)\r\n",
        "\r\n",
        "@qml.qnode(dev, diff_method=\"parameter-shift\")\r\n",
        "def circuit(params):\r\n",
        "    qml.RX(params[0], wires=0)\r\n",
        "    qml.RY(params[1], wires=1)\r\n",
        "    qml.RZ(params[2], wires=2)\r\n",
        "\r\n",
        "    qml.broadcast(qml.CNOT, wires=[0, 1, 2], pattern=\"ring\")\r\n",
        "\r\n",
        "    qml.RX(params[3], wires=0)\r\n",
        "    qml.RY(params[4], wires=1)\r\n",
        "    qml.RZ(params[5], wires=2)\r\n",
        "\r\n",
        "    qml.broadcast(qml.CNOT, wires=[0, 1, 2], pattern=\"ring\")\r\n",
        "    return qml.expval(qml.PauliY(0) @ qml.PauliZ(2))"
      ],
      "execution_count": null,
      "outputs": []
    },
    {
      "cell_type": "code",
      "metadata": {
        "colab": {
          "base_uri": "https://localhost:8080/"
        },
        "id": "eV54YxOsM-fc",
        "outputId": "34c57c37-b482-4bbd-e6cb-576a1cac0a34"
      },
      "source": [
        "# set the random seed\r\n",
        "np.random.seed(42)\r\n",
        "\r\n",
        "# initial parameters\r\n",
        "params = np.random.random([6])\r\n",
        "\r\n",
        "print(\"Parameters:\", params)\r\n",
        "print(\"Expectation value:\", circuit(params))\r\n",
        "print(circuit.draw())"
      ],
      "execution_count": null,
      "outputs": [
        {
          "output_type": "stream",
          "text": [
            "Parameters: [0.37454012 0.95071431 0.73199394 0.59865848 0.15601864 0.15599452]\n",
            "Expectation value: -0.11971365706871569\n",
            " 0: ──RX(0.375)──╭C─────────────────╭X──RX(0.599)──╭C──────╭X──╭┤ ⟨Y ⊗ Z⟩ \n",
            " 1: ──RY(0.951)──╰X──╭C──RY(0.156)──│──────────────╰X──╭C──│───│┤         \n",
            " 2: ──RZ(0.732)──────╰X─────────────╰C──RZ(0.156)──────╰X──╰C──╰┤ ⟨Y ⊗ Z⟩ \n",
            "\n"
          ],
          "name": "stdout"
        }
      ]
    },
    {
      "cell_type": "code",
      "metadata": {
        "id": "nt72WFkfNhzH",
        "colab": {
          "base_uri": "https://localhost:8080/"
        },
        "outputId": "acacf1b5-5f2a-46ac-c1bb-3c8f03b6ffaf"
      },
      "source": [
        "# PennyLane’s built-in parameter-shift feature\r\n",
        "# Note that when we define the QNode, we set the argument as diff_method=\"parameter-shift\"\r\n",
        "# Note the effects of setting argnum\r\n",
        "grad_function = qml.grad(circuit, argnum=0)\r\n",
        "grad_function_test = qml.grad(circuit)\r\n",
        "\r\n",
        "print(grad_function(params))\r\n",
        "print(grad_function_test(params))"
      ],
      "execution_count": null,
      "outputs": [
        {
          "output_type": "stream",
          "text": [
            "[-6.51887722e-02 -2.72891905e-02  0.00000000e+00 -9.33934621e-02\n",
            " -7.61067572e-01  8.32667268e-17]\n",
            "(array([-6.51887722e-02, -2.72891905e-02,  0.00000000e+00, -9.33934621e-02,\n",
            "       -7.61067572e-01,  8.32667268e-17]),)\n"
          ],
          "name": "stdout"
        }
      ]
    },
    {
      "cell_type": "code",
      "metadata": {
        "id": "tOaANDTwPWJi",
        "colab": {
          "base_uri": "https://localhost:8080/"
        },
        "outputId": "011f23d0-2ee3-48ff-b33d-ba2a02268f04"
      },
      "source": [
        "# Realizing the parameter-shift feature manully\r\n",
        "def parameter_shift_term(qnode, params, i):\r\n",
        "    shifted = params.copy() # shallow copy of params, avoiding the modification of shifted affects params\r\n",
        "    shifted[i] += np.pi/2\r\n",
        "    forward = qnode(shifted)  # forward evaluation\r\n",
        "\r\n",
        "    shifted[i] -= np.pi\r\n",
        "    backward = qnode(shifted) # backward evaluation\r\n",
        "\r\n",
        "    return 0.5 * (forward - backward)\r\n",
        "\r\n",
        "# gradient with respect to the first parameter\r\n",
        "print(parameter_shift_term(circuit, params, 0))"
      ],
      "execution_count": null,
      "outputs": [
        {
          "output_type": "stream",
          "text": [
            "-0.0651887722495813\n"
          ],
          "name": "stdout"
        }
      ]
    },
    {
      "cell_type": "code",
      "metadata": {
        "colab": {
          "base_uri": "https://localhost:8080/"
        },
        "id": "qLxogN1X4HK5",
        "outputId": "3a553d63-f4f4-4f83-e66c-bfa655b165dc"
      },
      "source": [
        "# loop over all elements of params\r\n",
        "def parameter_shift(qnode, params):\r\n",
        "    gradients = np.zeros(len(params))\r\n",
        "\r\n",
        "    for i in range(len(params)):\r\n",
        "        gradients[i] = parameter_shift_term(qnode, params, i)\r\n",
        "\r\n",
        "    return gradients\r\n",
        "\r\n",
        "print(parameter_shift(circuit, params))"
      ],
      "execution_count": null,
      "outputs": [
        {
          "output_type": "stream",
          "text": [
            "[-6.51887722e-02 -2.72891905e-02  0.00000000e+00 -9.33934621e-02\n",
            " -7.61067572e-01  8.32667268e-17]\n"
          ],
          "name": "stdout"
        }
      ]
    },
    {
      "cell_type": "code",
      "metadata": {
        "id": "0Z7JK90E_C-K"
      },
      "source": [
        "# Benchmarking on a larger circuit\r\n",
        "dev = qml.device(\"default.qubit\", wires=4)\r\n",
        "\r\n",
        "@qml.qnode(dev, diff_method=\"parameter-shift\", mutable=False)\r\n",
        "def circuit(params):\r\n",
        "    qml.templates.StronglyEntanglingLayers(params, wires=[0, 1, 2, 3])\r\n",
        "    return qml.expval(qml.PauliZ(0) @ qml.PauliZ(1) @ qml.PauliZ(2) @ qml.PauliZ(3))"
      ],
      "execution_count": null,
      "outputs": []
    },
    {
      "cell_type": "code",
      "metadata": {
        "id": "mxw8GFg7Z7Qk"
      },
      "source": [
        "# Note that we specify that the QNode is immutable. \r\n",
        "# This is more restrictive than a standard mutable QNode (the quantum circuit cannot change/differ between executions); \r\n",
        "# however, it reduces processing overhead."
      ],
      "execution_count": null,
      "outputs": []
    },
    {
      "cell_type": "code",
      "metadata": {
        "colab": {
          "base_uri": "https://localhost:8080/"
        },
        "id": "8r_pLEAZALDU",
        "outputId": "c9bff83f-edde-4937-c44f-7667c63f4e6f"
      },
      "source": [
        "# initialize circuit parameters\r\n",
        "params = qml.init.strong_ent_layers_normal(n_wires=4, n_layers=15)\r\n",
        "print(params.size)\r\n",
        "print(circuit(params))"
      ],
      "execution_count": null,
      "outputs": [
        {
          "output_type": "stream",
          "text": [
            "180\n",
            "0.8947771876917632\n"
          ],
          "name": "stdout"
        }
      ]
    },
    {
      "cell_type": "code",
      "metadata": {
        "colab": {
          "base_uri": "https://localhost:8080/"
        },
        "id": "oFNhl4kAANPa",
        "outputId": "23c93cd4-7d88-4bf8-ea98-c889207a6808"
      },
      "source": [
        "import timeit\r\n",
        "\r\n",
        "reps = 3\r\n",
        "num = 10\r\n",
        "times = timeit.repeat(\"circuit(params)\", globals=globals(), number=num, repeat=reps) \r\n",
        "# globals=globals(), the optional globals argument specifies a namespace in which to execute the code\r\n",
        "forward_time = min(times) / num\r\n",
        "\r\n",
        "print(f\"Forward pass (best of {reps}): {forward_time} sec per loop\")"
      ],
      "execution_count": null,
      "outputs": [
        {
          "output_type": "stream",
          "text": [
            "Forward pass (best of 3): 0.011549214999996593 sec per loop\n"
          ],
          "name": "stdout"
        }
      ]
    },
    {
      "cell_type": "code",
      "metadata": {
        "colab": {
          "base_uri": "https://localhost:8080/"
        },
        "id": "h00bTU5zKbJA",
        "outputId": "b8039cce-b87d-4799-973a-9aba94d5d531"
      },
      "source": [
        "# create the gradient function\r\n",
        "grad_fn = qml.grad(circuit)\r\n",
        "\r\n",
        "times = timeit.repeat(\"grad_fn(params)\", globals=globals(), number=num, repeat=reps)\r\n",
        "backward_time = min(times) / num\r\n",
        "\r\n",
        "print(f\"Gradient computation (best of {reps}): {backward_time} sec per loop\")"
      ],
      "execution_count": null,
      "outputs": [
        {
          "output_type": "stream",
          "text": [
            "Gradient computation (best of 3): 4.306805283599999 sec per loop\n"
          ],
          "name": "stdout"
        }
      ]
    },
    {
      "cell_type": "code",
      "metadata": {
        "colab": {
          "base_uri": "https://localhost:8080/"
        },
        "id": "9zG9xaveLKCh",
        "outputId": "86b0b617-c106-4d0b-a5d6-b6d8bebc0dee"
      },
      "source": [
        "# the parameter-shift method, which requires 2*p circuit evaluations for p parameters\r\n",
        "print(forward_time * 2 * params.size)"
      ],
      "execution_count": null,
      "outputs": [
        {
          "output_type": "stream",
          "text": [
            "4.1577173999987735\n"
          ],
          "name": "stdout"
        }
      ]
    },
    {
      "cell_type": "code",
      "metadata": {
        "id": "AcyNvY6XLz1N"
      },
      "source": [
        "# Backpropagation"
      ],
      "execution_count": null,
      "outputs": []
    },
    {
      "cell_type": "code",
      "metadata": {
        "id": "_9z3z3yMLxSd"
      },
      "source": [
        "import tensorflow as tf"
      ],
      "execution_count": null,
      "outputs": []
    },
    {
      "cell_type": "code",
      "metadata": {
        "colab": {
          "base_uri": "https://localhost:8080/"
        },
        "id": "g6ucDgyrLx4n",
        "outputId": "e304f1f6-1b39-4893-e3ef-a92a8794276a"
      },
      "source": [
        "dev = qml.device(\"default.qubit.tf\", wires=4)\r\n",
        "\r\n",
        "# By default, diff_method=\"backprop\" for the default.qubit.tf device when interface=\"tf\"\r\n",
        "@qml.qnode(dev, diff_method=\"backprop\", interface=\"tf\")\r\n",
        "def circuit(params):\r\n",
        "    qml.templates.StronglyEntanglingLayers(params, wires=[0, 1, 2, 3])\r\n",
        "    return qml.expval(qml.PauliZ(0) @ qml.PauliZ(1) @ qml.PauliZ(2) @ qml.PauliZ(3))\r\n",
        "\r\n",
        "# initialize circuit parameters\r\n",
        "params = qml.init.strong_ent_layers_normal(n_wires=4, n_layers=15)\r\n",
        "paramstf = tf.Variable(params) # convert params to a tf varible, otherwise circuit gradient cannot be calculated using tf  \r\n",
        "\r\n",
        "print(circuit(params))\r\n",
        "print(circuit(paramstf))"
      ],
      "execution_count": null,
      "outputs": [
        {
          "output_type": "stream",
          "text": [
            "tf.Tensor([0.95375887], shape=(1,), dtype=float64)\n",
            "tf.Tensor([0.95375887], shape=(1,), dtype=float64)\n"
          ],
          "name": "stdout"
        }
      ]
    },
    {
      "cell_type": "code",
      "metadata": {
        "colab": {
          "base_uri": "https://localhost:8080/"
        },
        "id": "FLDNkXHhNI6Z",
        "outputId": "c71605e9-d64b-4d9c-9f19-8e7e32cc1cbe"
      },
      "source": [
        "print(type(params))\r\n",
        "print(type(paramstf))"
      ],
      "execution_count": null,
      "outputs": [
        {
          "output_type": "stream",
          "text": [
            "<class 'pennylane.numpy.tensor.tensor'>\n",
            "<class 'tensorflow.python.ops.resource_variable_ops.ResourceVariable'>\n"
          ],
          "name": "stdout"
        }
      ]
    },
    {
      "cell_type": "code",
      "metadata": {
        "colab": {
          "base_uri": "https://localhost:8080/"
        },
        "id": "WuOkZsq_OLup",
        "outputId": "81c53c30-e024-4a55-f03c-dc4f9437cca3"
      },
      "source": [
        "import timeit\r\n",
        "\r\n",
        "reps = 3\r\n",
        "num = 10\r\n",
        "times = timeit.repeat(\"circuit(params)\", globals=globals(), number=num, repeat=reps)\r\n",
        "forward_time = min(times) / num\r\n",
        "print(f\"Forward pass (best of {reps}): {forward_time} sec per loop\")"
      ],
      "execution_count": null,
      "outputs": [
        {
          "output_type": "stream",
          "text": [
            "Forward pass (best of 3): 0.13757916829999886 sec per loop\n"
          ],
          "name": "stdout"
        }
      ]
    },
    {
      "cell_type": "code",
      "metadata": {
        "colab": {
          "base_uri": "https://localhost:8080/"
        },
        "id": "UCtDwbFVOrOv",
        "outputId": "d69979f5-2d01-4623-ad4d-7f6850b868e6"
      },
      "source": [
        "# tf.GradientTape is used to calculate the differentiation of res with respect to paramstf \r\n",
        "with tf.GradientTape(persistent=True) as tape:\r\n",
        "    res = circuit(paramstf)\r\n",
        "\r\n",
        "times = timeit.repeat(\"tape.gradient(res, paramstf)\", globals=globals(), number=num, repeat=reps)\r\n",
        "backward_time = min(times) / num\r\n",
        "print(f\"Backward pass (best of {reps}): {backward_time} sec per loop\")"
      ],
      "execution_count": null,
      "outputs": [
        {
          "output_type": "stream",
          "text": [
            "Backward pass (best of 3): 0.17922987830002057 sec per loop\n"
          ],
          "name": "stdout"
        }
      ]
    },
    {
      "cell_type": "code",
      "metadata": {
        "id": "sb49GKLkO9Xh"
      },
      "source": [
        "# For backprop, the time taken to perform the backwards pass appears of the order of a single forward pass\r\n",
        "\r\n",
        "# In reverse-mode autodifferentiation, the gradient can be computed with the same degree of complexity as the original function, \r\n",
        "# regardless of the number of parameters (albeit with some additional memory overhead)."
      ],
      "execution_count": null,
      "outputs": []
    },
    {
      "cell_type": "code",
      "metadata": {
        "id": "EG59jvYAS96z"
      },
      "source": [
        "# Time comparison"
      ],
      "execution_count": null,
      "outputs": []
    },
    {
      "cell_type": "code",
      "metadata": {
        "id": "NmpswcINTccV"
      },
      "source": [
        "dev_shift = qml.device(\"default.qubit\", wires=4)\r\n",
        "dev_backprop = qml.device(\"default.qubit.tf\", wires=4)\r\n",
        "\r\n",
        "def circuit(params):\r\n",
        "    qml.templates.StronglyEntanglingLayers(params, wires=[0, 1, 2, 3])\r\n",
        "    return qml.expval(qml.PauliZ(0) @ qml.PauliZ(1) @ qml.PauliZ(2) @ qml.PauliZ(3))"
      ],
      "execution_count": null,
      "outputs": []
    },
    {
      "cell_type": "code",
      "metadata": {
        "id": "kfYRv7BcTfAZ"
      },
      "source": [
        "reps = 2\r\n",
        "num = 3\r\n",
        "\r\n",
        "forward_shift = []\r\n",
        "gradient_shift = []\r\n",
        "forward_backprop = []\r\n",
        "gradient_backprop = []\r\n",
        "\r\n",
        "for depth in range(0, 21):\r\n",
        "    params = qml.init.strong_ent_layers_normal(n_wires=4, n_layers=depth)\r\n",
        "    num_params = params.size\r\n",
        "    params = tf.Variable(params)\r\n",
        "\r\n",
        "    # forward pass timing\r\n",
        "    # ===================\r\n",
        "\r\n",
        "# interface is the interface that will be used for classical backpropagation. \r\n",
        "# interface affects the types of objects that can be passed to/returned from the QNode\r\n",
        "\r\n",
        "    qnode_shift = qml.QNode(circuit, dev_shift, interface=\"tf\", mutable=False, diff_method=\"parameter-shift\")\r\n",
        "    # by default, diff_method=\"best\"\r\n",
        "    qnode_backprop = qml.QNode(circuit, dev_backprop, interface=\"tf\")\r\n",
        "\r\n",
        "    # parameter-shift\r\n",
        "    t = timeit.repeat(\"qnode_shift(params)\", globals=globals(), number=num, repeat=reps)\r\n",
        "    forward_shift.append([num_params, min(t) / num])\r\n",
        "\r\n",
        "    # backprop\r\n",
        "    t = timeit.repeat(\"qnode_backprop(params)\", globals=globals(), number=num, repeat=reps)\r\n",
        "    forward_backprop.append([num_params, min(t) / num])\r\n",
        "\r\n",
        "    if num_params == 0:\r\n",
        "        continue\r\n",
        "\r\n",
        "    # Gradient timing\r\n",
        "    # ===============\r\n",
        "\r\n",
        "    qnode_shift = qml.QNode(circuit, dev_shift, interface=\"tf\", mutable=False, diff_method=\"parameter-shift\")\r\n",
        "    qnode_backprop = qml.QNode(circuit, dev_backprop, interface=\"tf\")\r\n",
        "\r\n",
        "    # parameter-shift\r\n",
        "    with tf.GradientTape(persistent=True) as tape:\r\n",
        "        res = qnode_shift(params)\r\n",
        "\r\n",
        "    t = timeit.repeat(\"tape.gradient(res, params)\", globals=globals(), number=num, repeat=reps)\r\n",
        "    gradient_shift.append([num_params, min(t) / num])\r\n",
        "\r\n",
        "    # backprop\r\n",
        "    with tf.GradientTape(persistent=True) as tape:\r\n",
        "        res = qnode_backprop(params)\r\n",
        "\r\n",
        "    t = timeit.repeat(\"tape.gradient(res, params)\", globals=globals(), number=num, repeat=reps)\r\n",
        "    gradient_backprop.append([num_params, min(t) / num])\r\n",
        "\r\n",
        "gradient_shift = np.array(gradient_shift).T\r\n",
        "gradient_backprop = np.array(gradient_backprop).T\r\n",
        "forward_shift = np.array(forward_shift).T\r\n",
        "forward_backprop = np.array(forward_backprop).T"
      ],
      "execution_count": null,
      "outputs": []
    },
    {
      "cell_type": "code",
      "metadata": {
        "colab": {
          "base_uri": "https://localhost:8080/"
        },
        "id": "nXE0UNlhXe63",
        "outputId": "18d5e6f5-d41c-42e3-9ffe-ad3bc4aaec45"
      },
      "source": [
        "print(gradient_shift)"
      ],
      "execution_count": null,
      "outputs": [
        {
          "output_type": "stream",
          "text": [
            "[[1.20000000e+01 2.40000000e+01 3.60000000e+01 4.80000000e+01\n",
            "  6.00000000e+01 7.20000000e+01 8.40000000e+01 9.60000000e+01\n",
            "  1.08000000e+02 1.20000000e+02 1.32000000e+02 1.44000000e+02\n",
            "  1.56000000e+02 1.68000000e+02 1.80000000e+02 1.92000000e+02\n",
            "  2.04000000e+02 2.16000000e+02 2.28000000e+02 2.40000000e+02]\n",
            " [3.24079020e-02 1.02107334e-01 2.02036411e-01 3.50637113e-01\n",
            "  5.28991250e-01 7.40073816e-01 1.00685659e+00 1.28933213e+00\n",
            "  1.60044694e+00 1.96834366e+00 2.39185698e+00 2.84925379e+00\n",
            "  3.24813931e+00 3.67198287e+00 4.32181798e+00 4.81260541e+00\n",
            "  5.34894575e+00 6.04452444e+00 6.63271408e+00 7.29027735e+00]]\n"
          ],
          "name": "stdout"
        }
      ]
    },
    {
      "cell_type": "code",
      "metadata": {
        "colab": {
          "base_uri": "https://localhost:8080/",
          "height": 279
        },
        "id": "wCS-LmeeVe9i",
        "outputId": "13bb9136-049e-422d-9fe9-7bb7af62c18a"
      },
      "source": [
        "# Plot the results\r\n",
        "from matplotlib import pyplot as plt\r\n",
        "plt.style.use(\"bmh\")\r\n",
        "\r\n",
        "fig, ax = plt.subplots(1, 1, figsize=(6, 4))\r\n",
        "\r\n",
        "ax.plot(*gradient_shift, '.-', label=\"Parameter-shift\")\r\n",
        "ax.plot(*gradient_backprop, '.-', label=\"Backprop\")\r\n",
        "ax.set_ylabel(\"Time (s)\")\r\n",
        "ax.set_xlabel(\"Number of parameters\")\r\n",
        "ax.legend()\r\n",
        "\r\n",
        "plt.show()"
      ],
      "execution_count": null,
      "outputs": [
        {
          "output_type": "display_data",
          "data": {
            "image/png": "[encoded data removed]",
            "text/plain": [
              "<Figure size 432x288 with 1 Axes>"
            ]
          },
          "metadata": {
            "tags": [],
            "needs_background": "light"
          }
        }
      ]
    },
    {
      "cell_type": "code",
      "metadata": {
        "colab": {
          "base_uri": "https://localhost:8080/",
          "height": 283
        },
        "id": "WL9PS9flW-pK",
        "outputId": "3b596eb5-714f-4e7c-a07b-dd7b79d03beb"
      },
      "source": [
        "gradient_shift[1] /= forward_shift[1, 1:]\r\n",
        "gradient_backprop[1] /= forward_backprop[1, 1:]\r\n",
        "\r\n",
        "fig, ax = plt.subplots(1, 1, figsize=(6, 4))\r\n",
        "\r\n",
        "ax.plot(*gradient_shift, '.-', label=\"Parameter-shift\")\r\n",
        "ax.plot(*gradient_backprop, '.-', label=\"Backprop\")\r\n",
        "\r\n",
        "# perform a least squares regression to determine the linear best fit/gradient\r\n",
        "# for the normalized time vs. number of parameters\r\n",
        "x = gradient_shift[0]\r\n",
        "m_shift, c_shift = np.polyfit(*gradient_shift, deg=1)\r\n",
        "m_back, c_back = np.polyfit(*gradient_backprop, deg=1)\r\n",
        "\r\n",
        "ax.plot(x, m_shift * x + c_shift, '--', label=f\"{m_shift:.2f}p{c_shift:+.2f}\")\r\n",
        "ax.plot(x, m_back * x + c_back, '--', label=f\"{m_back:.2f}p{c_back:+.2f}\")\r\n",
        "\r\n",
        "ax.set_ylabel(\"Normalized time\")\r\n",
        "ax.set_xlabel(\"Number of parameters\")\r\n",
        "ax.set_xscale(\"log\")\r\n",
        "ax.set_yscale(\"log\")\r\n",
        "ax.legend()\r\n",
        "\r\n",
        "plt.show()"
      ],
      "execution_count": null,
      "outputs": [
        {
          "output_type": "display_data",
          "data": {
            "image/png": "[encoded data removed]",
            "text/plain": [
              "<Figure size 432x288 with 1 Axes>"
            ]
          },
          "metadata": {
            "tags": [],
            "needs_background": "light"
          }
        }
      ]
    }
  ]
}